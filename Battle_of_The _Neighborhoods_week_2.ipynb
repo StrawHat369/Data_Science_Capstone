{
 "cells": [
  {
   "cell_type": "markdown",
   "metadata": {},
   "source": [
    "<h1>Getting Started</h1>"
   ]
  },
  {
   "cell_type": "markdown",
   "metadata": {},
   "source": [
    "Importing all the required libraries before going further into the problem"
   ]
  },
  {
   "cell_type": "code",
   "execution_count": 77,
   "metadata": {},
   "outputs": [
    {
     "name": "stdout",
     "output_type": "stream",
     "text": [
      "All Libraries Imported\n"
     ]
    }
   ],
   "source": [
    "import numpy as np\n",
    "import pandas as pd\n",
    "import json\n",
    "import requests\n",
    "from pandas.io.json import json_normalize\n",
    "\n",
    "import matplotlib.cm as cm\n",
    "import matplotlib.colors as colors\n",
    "import matplotlib.pyplot as plt\n",
    "import sklearn\n",
    "\n",
    "from sklearn.cluster import KMeans\n",
    "from sklearn.decomposition import PCA\n",
    "from sklearn.preprocessing import MinMaxScaler\n",
    "\n",
    "import folium\n",
    "print('All Libraries Imported')"
   ]
  },
  {
   "cell_type": "markdown",
   "metadata": {},
   "source": [
    "<h2>Data Acqusition and Cleaning </h2>"
   ]
  },
  {
   "cell_type": "markdown",
   "metadata": {},
   "source": [
    "Importing the data files which are in the file format .csv of Toronto and Newyork from the previous notebooks in which some scraping and preprocessing of the data is done"
   ]
  },
  {
   "cell_type": "code",
   "execution_count": 12,
   "metadata": {},
   "outputs": [
    {
     "data": {
      "text/html": [
       "<div>\n",
       "<style scoped>\n",
       "    .dataframe tbody tr th:only-of-type {\n",
       "        vertical-align: middle;\n",
       "    }\n",
       "\n",
       "    .dataframe tbody tr th {\n",
       "        vertical-align: top;\n",
       "    }\n",
       "\n",
       "    .dataframe thead th {\n",
       "        text-align: right;\n",
       "    }\n",
       "</style>\n",
       "<table border=\"1\" class=\"dataframe\">\n",
       "  <thead>\n",
       "    <tr style=\"text-align: right;\">\n",
       "      <th></th>\n",
       "      <th>Borough</th>\n",
       "      <th>Neighborhood</th>\n",
       "      <th>Latitude</th>\n",
       "      <th>Longitude</th>\n",
       "    </tr>\n",
       "  </thead>\n",
       "  <tbody>\n",
       "    <tr>\n",
       "      <th>0</th>\n",
       "      <td>Manhattan</td>\n",
       "      <td>Marble Hill</td>\n",
       "      <td>40.876551</td>\n",
       "      <td>-73.910660</td>\n",
       "    </tr>\n",
       "    <tr>\n",
       "      <th>1</th>\n",
       "      <td>Manhattan</td>\n",
       "      <td>Chinatown</td>\n",
       "      <td>40.715618</td>\n",
       "      <td>-73.994279</td>\n",
       "    </tr>\n",
       "    <tr>\n",
       "      <th>2</th>\n",
       "      <td>Manhattan</td>\n",
       "      <td>Washington Heights</td>\n",
       "      <td>40.851903</td>\n",
       "      <td>-73.936900</td>\n",
       "    </tr>\n",
       "    <tr>\n",
       "      <th>3</th>\n",
       "      <td>Manhattan</td>\n",
       "      <td>Inwood</td>\n",
       "      <td>40.867684</td>\n",
       "      <td>-73.921210</td>\n",
       "    </tr>\n",
       "    <tr>\n",
       "      <th>4</th>\n",
       "      <td>Manhattan</td>\n",
       "      <td>Hamilton Heights</td>\n",
       "      <td>40.823604</td>\n",
       "      <td>-73.949688</td>\n",
       "    </tr>\n",
       "  </tbody>\n",
       "</table>\n",
       "</div>"
      ],
      "text/plain": [
       "     Borough        Neighborhood   Latitude  Longitude\n",
       "0  Manhattan         Marble Hill  40.876551 -73.910660\n",
       "1  Manhattan           Chinatown  40.715618 -73.994279\n",
       "2  Manhattan  Washington Heights  40.851903 -73.936900\n",
       "3  Manhattan              Inwood  40.867684 -73.921210\n",
       "4  Manhattan    Hamilton Heights  40.823604 -73.949688"
      ]
     },
     "execution_count": 12,
     "metadata": {},
     "output_type": "execute_result"
    }
   ],
   "source": [
    "#by using pandas importing the .csv files in the form of a data frame\n",
    "Toronto = pd.read_csv('Toronto.csv')\n",
    "Newyork = pd.read_csv('NewYork.csv')\n",
    "Newyork.head()"
   ]
  },
  {
   "cell_type": "code",
   "execution_count": 13,
   "metadata": {},
   "outputs": [
    {
     "data": {
      "text/html": [
       "<div>\n",
       "<style scoped>\n",
       "    .dataframe tbody tr th:only-of-type {\n",
       "        vertical-align: middle;\n",
       "    }\n",
       "\n",
       "    .dataframe tbody tr th {\n",
       "        vertical-align: top;\n",
       "    }\n",
       "\n",
       "    .dataframe thead th {\n",
       "        text-align: right;\n",
       "    }\n",
       "</style>\n",
       "<table border=\"1\" class=\"dataframe\">\n",
       "  <thead>\n",
       "    <tr style=\"text-align: right;\">\n",
       "      <th></th>\n",
       "      <th>PostalCode</th>\n",
       "      <th>Borough</th>\n",
       "      <th>Neighborhood</th>\n",
       "      <th>Latitude</th>\n",
       "      <th>Longitude</th>\n",
       "    </tr>\n",
       "  </thead>\n",
       "  <tbody>\n",
       "    <tr>\n",
       "      <th>0</th>\n",
       "      <td>M4E</td>\n",
       "      <td>East Toronto</td>\n",
       "      <td>The Beaches</td>\n",
       "      <td>43.676357</td>\n",
       "      <td>-79.293031</td>\n",
       "    </tr>\n",
       "    <tr>\n",
       "      <th>1</th>\n",
       "      <td>M4K</td>\n",
       "      <td>East Toronto</td>\n",
       "      <td>The Danforth West , Riverdale</td>\n",
       "      <td>43.679557</td>\n",
       "      <td>-79.352188</td>\n",
       "    </tr>\n",
       "    <tr>\n",
       "      <th>2</th>\n",
       "      <td>M4L</td>\n",
       "      <td>East Toronto</td>\n",
       "      <td>India Bazaar , The Beaches West</td>\n",
       "      <td>43.668999</td>\n",
       "      <td>-79.315572</td>\n",
       "    </tr>\n",
       "    <tr>\n",
       "      <th>3</th>\n",
       "      <td>M4M</td>\n",
       "      <td>East Toronto</td>\n",
       "      <td>Studio District</td>\n",
       "      <td>43.659526</td>\n",
       "      <td>-79.340923</td>\n",
       "    </tr>\n",
       "    <tr>\n",
       "      <th>4</th>\n",
       "      <td>M4N</td>\n",
       "      <td>Central Toronto</td>\n",
       "      <td>Lawrence Park</td>\n",
       "      <td>43.728020</td>\n",
       "      <td>-79.388790</td>\n",
       "    </tr>\n",
       "  </tbody>\n",
       "</table>\n",
       "</div>"
      ],
      "text/plain": [
       "  PostalCode          Borough                     Neighborhood   Latitude  \\\n",
       "0        M4E     East Toronto                      The Beaches  43.676357   \n",
       "1        M4K     East Toronto    The Danforth West , Riverdale  43.679557   \n",
       "2        M4L     East Toronto  India Bazaar , The Beaches West  43.668999   \n",
       "3        M4M     East Toronto                  Studio District  43.659526   \n",
       "4        M4N  Central Toronto                    Lawrence Park  43.728020   \n",
       "\n",
       "   Longitude  \n",
       "0 -79.293031  \n",
       "1 -79.352188  \n",
       "2 -79.315572  \n",
       "3 -79.340923  \n",
       "4 -79.388790  "
      ]
     },
     "execution_count": 13,
     "metadata": {},
     "output_type": "execute_result"
    }
   ],
   "source": [
    "Toronto.head()"
   ]
  },
  {
   "cell_type": "markdown",
   "metadata": {},
   "source": [
    "In this project we will deal with the neighborhoods in Manhattan of NewYork city and of the neighborhoods of Toronto specifically"
   ]
  },
  {
   "cell_type": "code",
   "execution_count": 16,
   "metadata": {},
   "outputs": [
    {
     "data": {
      "text/html": [
       "<div>\n",
       "<style scoped>\n",
       "    .dataframe tbody tr th:only-of-type {\n",
       "        vertical-align: middle;\n",
       "    }\n",
       "\n",
       "    .dataframe tbody tr th {\n",
       "        vertical-align: top;\n",
       "    }\n",
       "\n",
       "    .dataframe thead th {\n",
       "        text-align: right;\n",
       "    }\n",
       "</style>\n",
       "<table border=\"1\" class=\"dataframe\">\n",
       "  <thead>\n",
       "    <tr style=\"text-align: right;\">\n",
       "      <th></th>\n",
       "      <th>Borough</th>\n",
       "      <th>Neighborhood</th>\n",
       "      <th>Latitude</th>\n",
       "      <th>Longitude</th>\n",
       "    </tr>\n",
       "  </thead>\n",
       "  <tbody>\n",
       "    <tr>\n",
       "      <th>0</th>\n",
       "      <td>East Toronto</td>\n",
       "      <td>The Beaches</td>\n",
       "      <td>43.676357</td>\n",
       "      <td>-79.293031</td>\n",
       "    </tr>\n",
       "    <tr>\n",
       "      <th>1</th>\n",
       "      <td>East Toronto</td>\n",
       "      <td>The Danforth West , Riverdale</td>\n",
       "      <td>43.679557</td>\n",
       "      <td>-79.352188</td>\n",
       "    </tr>\n",
       "    <tr>\n",
       "      <th>2</th>\n",
       "      <td>East Toronto</td>\n",
       "      <td>India Bazaar , The Beaches West</td>\n",
       "      <td>43.668999</td>\n",
       "      <td>-79.315572</td>\n",
       "    </tr>\n",
       "    <tr>\n",
       "      <th>3</th>\n",
       "      <td>East Toronto</td>\n",
       "      <td>Studio District</td>\n",
       "      <td>43.659526</td>\n",
       "      <td>-79.340923</td>\n",
       "    </tr>\n",
       "    <tr>\n",
       "      <th>4</th>\n",
       "      <td>Central Toronto</td>\n",
       "      <td>Lawrence Park</td>\n",
       "      <td>43.728020</td>\n",
       "      <td>-79.388790</td>\n",
       "    </tr>\n",
       "  </tbody>\n",
       "</table>\n",
       "</div>"
      ],
      "text/plain": [
       "           Borough                     Neighborhood   Latitude  Longitude\n",
       "0     East Toronto                      The Beaches  43.676357 -79.293031\n",
       "1     East Toronto    The Danforth West , Riverdale  43.679557 -79.352188\n",
       "2     East Toronto  India Bazaar , The Beaches West  43.668999 -79.315572\n",
       "3     East Toronto                  Studio District  43.659526 -79.340923\n",
       "4  Central Toronto                    Lawrence Park  43.728020 -79.388790"
      ]
     },
     "execution_count": 16,
     "metadata": {},
     "output_type": "execute_result"
    }
   ],
   "source": [
    "#dropping the Postal Code column in Toronto as it is of no use \n",
    "Toronto.drop('PostalCode',1,inplace = True)\n",
    "Toronto.head()"
   ]
  },
  {
   "cell_type": "markdown",
   "metadata": {},
   "source": [
    "Obtaining the venue details in the neighborhoods by requesting API's from the Foursquare "
   ]
  },
  {
   "cell_type": "code",
   "execution_count": 18,
   "metadata": {},
   "outputs": [],
   "source": [
    "#The details for API calls \n",
    "limit = 100\n",
    "radius = 500\n",
    "client_id = 'UD3APJJHD41HZJV1OFAGV4GD35MYPGJRE1OK41S0KBYHZMX0'\n",
    "client_secret = 'BGMVWUEYEE445XZCFP4MKEO4U0ASOJT03IICV1IW2E2TYOQY'\n",
    "version = 20200424"
   ]
  },
  {
   "cell_type": "markdown",
   "metadata": {},
   "source": [
    "Defining a function for getting  the venues"
   ]
  },
  {
   "cell_type": "code",
   "execution_count": 43,
   "metadata": {},
   "outputs": [],
   "source": [
    "def Get_Venues(neighborhood , lat , lng):\n",
    "    _venues_ = []\n",
    "    for neigh , lat , lng in zip(neighborhood,lat,lng):\n",
    "        print(neigh)\n",
    "        #API request url\n",
    "        url = 'https://api.foursquare.com/v2/venues/explore?&client_id={}&client_secret={}&v={}&ll={},{}&radius={}&limit={}'.format(client_id, client_secret,version, lat, lng, radius, limit)\n",
    "        venue_details =  requests.get(url).json()\n",
    "        \n",
    "        _venues_.append([(\n",
    "            neigh, \n",
    "            lat, \n",
    "            lng, \n",
    "            v['venue']['name'], \n",
    "            v['venue']['location']['lat'], \n",
    "            v['venue']['location']['lng'],  \n",
    "            v['venue']['categories'][0]['name']) for v in venue_details[\"response\"]['groups'][0]['items']])\n",
    "        \n",
    "        #converting it into a data frame\n",
    "        all_venues = pd.DataFrame([element for venue in _venues_ for element in venue])\n",
    "        all_venues.columns = ['Neighborhood', \n",
    "                  'Neighborhood Latitude', \n",
    "                  'Neighborhood Longitude', \n",
    "                  'Venue', \n",
    "                  'Venue Latitude', \n",
    "                  'Venue Longitude', \n",
    "                  'Venue Category']\n",
    "        \n",
    "    return(all_venues)"
   ]
  },
  {
   "cell_type": "markdown",
   "metadata": {},
   "source": [
    "Combining both the dataframes of Toronto and Newyork and request the API at a time using the function above to get the venues in the neighborhoods"
   ]
  },
  {
   "cell_type": "code",
   "execution_count": 44,
   "metadata": {},
   "outputs": [
    {
     "data": {
      "text/html": [
       "<div>\n",
       "<style scoped>\n",
       "    .dataframe tbody tr th:only-of-type {\n",
       "        vertical-align: middle;\n",
       "    }\n",
       "\n",
       "    .dataframe tbody tr th {\n",
       "        vertical-align: top;\n",
       "    }\n",
       "\n",
       "    .dataframe thead th {\n",
       "        text-align: right;\n",
       "    }\n",
       "</style>\n",
       "<table border=\"1\" class=\"dataframe\">\n",
       "  <thead>\n",
       "    <tr style=\"text-align: right;\">\n",
       "      <th></th>\n",
       "      <th>Borough</th>\n",
       "      <th>Neighborhood</th>\n",
       "      <th>Latitude</th>\n",
       "      <th>Longitude</th>\n",
       "    </tr>\n",
       "  </thead>\n",
       "  <tbody>\n",
       "    <tr>\n",
       "      <th>0</th>\n",
       "      <td>East Toronto</td>\n",
       "      <td>The Beaches</td>\n",
       "      <td>43.676357</td>\n",
       "      <td>-79.293031</td>\n",
       "    </tr>\n",
       "    <tr>\n",
       "      <th>1</th>\n",
       "      <td>East Toronto</td>\n",
       "      <td>The Danforth West , Riverdale</td>\n",
       "      <td>43.679557</td>\n",
       "      <td>-79.352188</td>\n",
       "    </tr>\n",
       "    <tr>\n",
       "      <th>2</th>\n",
       "      <td>East Toronto</td>\n",
       "      <td>India Bazaar , The Beaches West</td>\n",
       "      <td>43.668999</td>\n",
       "      <td>-79.315572</td>\n",
       "    </tr>\n",
       "    <tr>\n",
       "      <th>3</th>\n",
       "      <td>East Toronto</td>\n",
       "      <td>Studio District</td>\n",
       "      <td>43.659526</td>\n",
       "      <td>-79.340923</td>\n",
       "    </tr>\n",
       "    <tr>\n",
       "      <th>4</th>\n",
       "      <td>Central Toronto</td>\n",
       "      <td>Lawrence Park</td>\n",
       "      <td>43.728020</td>\n",
       "      <td>-79.388790</td>\n",
       "    </tr>\n",
       "  </tbody>\n",
       "</table>\n",
       "</div>"
      ],
      "text/plain": [
       "           Borough                     Neighborhood   Latitude  Longitude\n",
       "0     East Toronto                      The Beaches  43.676357 -79.293031\n",
       "1     East Toronto    The Danforth West , Riverdale  43.679557 -79.352188\n",
       "2     East Toronto  India Bazaar , The Beaches West  43.668999 -79.315572\n",
       "3     East Toronto                  Studio District  43.659526 -79.340923\n",
       "4  Central Toronto                    Lawrence Park  43.728020 -79.388790"
      ]
     },
     "execution_count": 44,
     "metadata": {},
     "output_type": "execute_result"
    }
   ],
   "source": [
    "df = pd.concat([Toronto,Newyork],ignore_index = True)\n",
    "df.head()"
   ]
  },
  {
   "cell_type": "markdown",
   "metadata": {},
   "source": [
    " "
   ]
  },
  {
   "cell_type": "code",
   "execution_count": 46,
   "metadata": {},
   "outputs": [
    {
     "name": "stdout",
     "output_type": "stream",
     "text": [
      "The Beaches\n",
      "The Danforth West , Riverdale\n",
      "India Bazaar , The Beaches West\n",
      "Studio District\n",
      "Lawrence Park\n",
      "Davisville North\n",
      "North Toronto West\n",
      "Davisville\n",
      "Moore Park , Summerhill East\n",
      "Summerhill West , Rathnelly , South Hill , Forest Hill SE , Deer Park\n",
      "Rosedale\n",
      "St. James Town , Cabbagetown\n",
      "Church and Wellesley\n",
      "Regent Park , Harbourfront\n",
      "Garden District, Ryerson\n",
      "St. James Town\n",
      "Berczy Park\n",
      "Central Bay Street\n",
      "Richmond , Adelaide , King\n",
      "Harbourfront East , Union Station , Toronto Islands\n",
      "Toronto Dominion Centre , Design Exchange\n",
      "Commerce Court , Victoria Hotel\n",
      "Roselawn\n",
      "Forest Hill North & West\n",
      "The Annex , North Midtown , Yorkville\n",
      "University of Toronto , Harbord\n",
      "Kensington Market , Chinatown , Grange Park\n",
      "CN Tower , King and Spadina , Railway Lands , Harbourfront West , Bathurst Quay , South Niagara , Island airport\n",
      "Stn A PO Boxes\n",
      "First Canadian Place , Underground city\n",
      "Christie\n",
      "Dufferin , Dovercourt Village\n",
      "Little Portugal , Trinity\n",
      "Brockton , Parkdale Village , Exhibition Place\n",
      "High Park , The Junction South\n",
      "Parkdale , Roncesvalles\n",
      "Runnymede , Swansea\n",
      "Queen's Park , Ontario Provincial Government\n",
      "Business reply mail Processing CentrE\n",
      "Marble Hill\n",
      "Chinatown\n",
      "Washington Heights\n",
      "Inwood\n",
      "Hamilton Heights\n",
      "Manhattanville\n",
      "Central Harlem\n",
      "East Harlem\n",
      "Upper East Side\n",
      "Yorkville\n",
      "Lenox Hill\n",
      "Roosevelt Island\n",
      "Upper West Side\n",
      "Lincoln Square\n",
      "Clinton\n",
      "Midtown\n",
      "Murray Hill\n",
      "Chelsea\n",
      "Greenwich Village\n",
      "East Village\n",
      "Lower East Side\n",
      "Tribeca\n",
      "Little Italy\n",
      "Soho\n",
      "West Village\n",
      "Manhattan Valley\n",
      "Morningside Heights\n",
      "Gramercy\n",
      "Battery Park City\n",
      "Financial District\n",
      "Carnegie Hill\n",
      "Noho\n",
      "Civic Center\n",
      "Midtown South\n",
      "Sutton Place\n",
      "Turtle Bay\n",
      "Tudor City\n",
      "Stuyvesant Town\n",
      "Flatiron\n",
      "Hudson Yards\n"
     ]
    }
   ],
   "source": [
    "df_venues = Get_Venues(df['Neighborhood'],df['Latitude'],df['Longitude'])"
   ]
  },
  {
   "cell_type": "code",
   "execution_count": 47,
   "metadata": {},
   "outputs": [],
   "source": [
    "df_venues.to_csv('All_venues.csv')"
   ]
  },
  {
   "cell_type": "code",
   "execution_count": 128,
   "metadata": {},
   "outputs": [
    {
     "data": {
      "text/html": [
       "<div>\n",
       "<style scoped>\n",
       "    .dataframe tbody tr th:only-of-type {\n",
       "        vertical-align: middle;\n",
       "    }\n",
       "\n",
       "    .dataframe tbody tr th {\n",
       "        vertical-align: top;\n",
       "    }\n",
       "\n",
       "    .dataframe thead th {\n",
       "        text-align: right;\n",
       "    }\n",
       "</style>\n",
       "<table border=\"1\" class=\"dataframe\">\n",
       "  <thead>\n",
       "    <tr style=\"text-align: right;\">\n",
       "      <th></th>\n",
       "      <th>Neighborhood</th>\n",
       "      <th>Neighborhood Latitude</th>\n",
       "      <th>Neighborhood Longitude</th>\n",
       "      <th>Venue</th>\n",
       "      <th>Venue Latitude</th>\n",
       "      <th>Venue Longitude</th>\n",
       "      <th>Venue Category</th>\n",
       "    </tr>\n",
       "  </thead>\n",
       "  <tbody>\n",
       "    <tr>\n",
       "      <th>0</th>\n",
       "      <td>The Beaches</td>\n",
       "      <td>43.676357</td>\n",
       "      <td>-79.293031</td>\n",
       "      <td>Glen Manor Ravine</td>\n",
       "      <td>43.676821</td>\n",
       "      <td>-79.293942</td>\n",
       "      <td>Trail</td>\n",
       "    </tr>\n",
       "    <tr>\n",
       "      <th>1</th>\n",
       "      <td>The Beaches</td>\n",
       "      <td>43.676357</td>\n",
       "      <td>-79.293031</td>\n",
       "      <td>The Big Carrot Natural Food Market</td>\n",
       "      <td>43.678879</td>\n",
       "      <td>-79.297734</td>\n",
       "      <td>Health Food Store</td>\n",
       "    </tr>\n",
       "    <tr>\n",
       "      <th>2</th>\n",
       "      <td>The Beaches</td>\n",
       "      <td>43.676357</td>\n",
       "      <td>-79.293031</td>\n",
       "      <td>Grover Pub and Grub</td>\n",
       "      <td>43.679181</td>\n",
       "      <td>-79.297215</td>\n",
       "      <td>Pub</td>\n",
       "    </tr>\n",
       "    <tr>\n",
       "      <th>3</th>\n",
       "      <td>The Beaches</td>\n",
       "      <td>43.676357</td>\n",
       "      <td>-79.293031</td>\n",
       "      <td>Upper Beaches</td>\n",
       "      <td>43.680563</td>\n",
       "      <td>-79.292869</td>\n",
       "      <td>Neighborhood</td>\n",
       "    </tr>\n",
       "    <tr>\n",
       "      <th>4</th>\n",
       "      <td>The Danforth West , Riverdale</td>\n",
       "      <td>43.679557</td>\n",
       "      <td>-79.352188</td>\n",
       "      <td>MenEssentials</td>\n",
       "      <td>43.677820</td>\n",
       "      <td>-79.351265</td>\n",
       "      <td>Cosmetics Shop</td>\n",
       "    </tr>\n",
       "  </tbody>\n",
       "</table>\n",
       "</div>"
      ],
      "text/plain": [
       "                    Neighborhood  Neighborhood Latitude  \\\n",
       "0                    The Beaches              43.676357   \n",
       "1                    The Beaches              43.676357   \n",
       "2                    The Beaches              43.676357   \n",
       "3                    The Beaches              43.676357   \n",
       "4  The Danforth West , Riverdale              43.679557   \n",
       "\n",
       "   Neighborhood Longitude                               Venue  Venue Latitude  \\\n",
       "0              -79.293031                   Glen Manor Ravine       43.676821   \n",
       "1              -79.293031  The Big Carrot Natural Food Market       43.678879   \n",
       "2              -79.293031                 Grover Pub and Grub       43.679181   \n",
       "3              -79.293031                       Upper Beaches       43.680563   \n",
       "4              -79.352188                       MenEssentials       43.677820   \n",
       "\n",
       "   Venue Longitude     Venue Category  \n",
       "0       -79.293942              Trail  \n",
       "1       -79.297734  Health Food Store  \n",
       "2       -79.297215                Pub  \n",
       "3       -79.292869       Neighborhood  \n",
       "4       -79.351265     Cosmetics Shop  "
      ]
     },
     "execution_count": 128,
     "metadata": {},
     "output_type": "execute_result"
    }
   ],
   "source": [
    "df_venues.shape\n",
    "df_venues.head()"
   ]
  },
  {
   "cell_type": "markdown",
   "metadata": {},
   "source": [
    "There are about 4580 venues in all the neighborhoods combined.\n"
   ]
  },
  {
   "cell_type": "markdown",
   "metadata": {},
   "source": [
    "<h2>Exploring and Anaylzing The Data</h2>"
   ]
  },
  {
   "cell_type": "markdown",
   "metadata": {},
   "source": [
    "creating another dataframe on different categories of venues in the corresponding neighborhoods for more analyzation of data"
   ]
  },
  {
   "cell_type": "code",
   "execution_count": 129,
   "metadata": {},
   "outputs": [
    {
     "data": {
      "text/html": [
       "<div>\n",
       "<style scoped>\n",
       "    .dataframe tbody tr th:only-of-type {\n",
       "        vertical-align: middle;\n",
       "    }\n",
       "\n",
       "    .dataframe tbody tr th {\n",
       "        vertical-align: top;\n",
       "    }\n",
       "\n",
       "    .dataframe thead th {\n",
       "        text-align: right;\n",
       "    }\n",
       "</style>\n",
       "<table border=\"1\" class=\"dataframe\">\n",
       "  <thead>\n",
       "    <tr style=\"text-align: right;\">\n",
       "      <th></th>\n",
       "      <th>Accessories Store</th>\n",
       "      <th>Adult Boutique</th>\n",
       "      <th>Afghan Restaurant</th>\n",
       "      <th>African Restaurant</th>\n",
       "      <th>Airport</th>\n",
       "      <th>Airport Food Court</th>\n",
       "      <th>Airport Gate</th>\n",
       "      <th>Airport Lounge</th>\n",
       "      <th>Airport Service</th>\n",
       "      <th>Airport Terminal</th>\n",
       "      <th>...</th>\n",
       "      <th>Video Store</th>\n",
       "      <th>Vietnamese Restaurant</th>\n",
       "      <th>Volleyball Court</th>\n",
       "      <th>Waterfront</th>\n",
       "      <th>Whisky Bar</th>\n",
       "      <th>Wine Bar</th>\n",
       "      <th>Wine Shop</th>\n",
       "      <th>Wings Joint</th>\n",
       "      <th>Women's Store</th>\n",
       "      <th>Yoga Studio</th>\n",
       "    </tr>\n",
       "  </thead>\n",
       "  <tbody>\n",
       "    <tr>\n",
       "      <th>0</th>\n",
       "      <td>0</td>\n",
       "      <td>0</td>\n",
       "      <td>0</td>\n",
       "      <td>0</td>\n",
       "      <td>0</td>\n",
       "      <td>0</td>\n",
       "      <td>0</td>\n",
       "      <td>0</td>\n",
       "      <td>0</td>\n",
       "      <td>0</td>\n",
       "      <td>...</td>\n",
       "      <td>0</td>\n",
       "      <td>0</td>\n",
       "      <td>0</td>\n",
       "      <td>0</td>\n",
       "      <td>0</td>\n",
       "      <td>0</td>\n",
       "      <td>0</td>\n",
       "      <td>0</td>\n",
       "      <td>0</td>\n",
       "      <td>0</td>\n",
       "    </tr>\n",
       "    <tr>\n",
       "      <th>1</th>\n",
       "      <td>0</td>\n",
       "      <td>0</td>\n",
       "      <td>0</td>\n",
       "      <td>0</td>\n",
       "      <td>0</td>\n",
       "      <td>0</td>\n",
       "      <td>0</td>\n",
       "      <td>0</td>\n",
       "      <td>0</td>\n",
       "      <td>0</td>\n",
       "      <td>...</td>\n",
       "      <td>0</td>\n",
       "      <td>0</td>\n",
       "      <td>0</td>\n",
       "      <td>0</td>\n",
       "      <td>0</td>\n",
       "      <td>0</td>\n",
       "      <td>0</td>\n",
       "      <td>0</td>\n",
       "      <td>0</td>\n",
       "      <td>0</td>\n",
       "    </tr>\n",
       "    <tr>\n",
       "      <th>2</th>\n",
       "      <td>0</td>\n",
       "      <td>0</td>\n",
       "      <td>0</td>\n",
       "      <td>0</td>\n",
       "      <td>0</td>\n",
       "      <td>0</td>\n",
       "      <td>0</td>\n",
       "      <td>0</td>\n",
       "      <td>0</td>\n",
       "      <td>0</td>\n",
       "      <td>...</td>\n",
       "      <td>0</td>\n",
       "      <td>0</td>\n",
       "      <td>0</td>\n",
       "      <td>0</td>\n",
       "      <td>0</td>\n",
       "      <td>0</td>\n",
       "      <td>0</td>\n",
       "      <td>0</td>\n",
       "      <td>0</td>\n",
       "      <td>0</td>\n",
       "    </tr>\n",
       "    <tr>\n",
       "      <th>3</th>\n",
       "      <td>0</td>\n",
       "      <td>0</td>\n",
       "      <td>0</td>\n",
       "      <td>0</td>\n",
       "      <td>0</td>\n",
       "      <td>0</td>\n",
       "      <td>0</td>\n",
       "      <td>0</td>\n",
       "      <td>0</td>\n",
       "      <td>0</td>\n",
       "      <td>...</td>\n",
       "      <td>0</td>\n",
       "      <td>0</td>\n",
       "      <td>0</td>\n",
       "      <td>0</td>\n",
       "      <td>0</td>\n",
       "      <td>0</td>\n",
       "      <td>0</td>\n",
       "      <td>0</td>\n",
       "      <td>0</td>\n",
       "      <td>0</td>\n",
       "    </tr>\n",
       "    <tr>\n",
       "      <th>4</th>\n",
       "      <td>0</td>\n",
       "      <td>0</td>\n",
       "      <td>0</td>\n",
       "      <td>0</td>\n",
       "      <td>0</td>\n",
       "      <td>0</td>\n",
       "      <td>0</td>\n",
       "      <td>0</td>\n",
       "      <td>0</td>\n",
       "      <td>0</td>\n",
       "      <td>...</td>\n",
       "      <td>0</td>\n",
       "      <td>0</td>\n",
       "      <td>0</td>\n",
       "      <td>0</td>\n",
       "      <td>0</td>\n",
       "      <td>0</td>\n",
       "      <td>0</td>\n",
       "      <td>0</td>\n",
       "      <td>0</td>\n",
       "      <td>0</td>\n",
       "    </tr>\n",
       "  </tbody>\n",
       "</table>\n",
       "<p>5 rows × 367 columns</p>\n",
       "</div>"
      ],
      "text/plain": [
       "   Accessories Store  Adult Boutique  Afghan Restaurant  African Restaurant  \\\n",
       "0                  0               0                  0                   0   \n",
       "1                  0               0                  0                   0   \n",
       "2                  0               0                  0                   0   \n",
       "3                  0               0                  0                   0   \n",
       "4                  0               0                  0                   0   \n",
       "\n",
       "   Airport  Airport Food Court  Airport Gate  Airport Lounge  Airport Service  \\\n",
       "0        0                   0             0               0                0   \n",
       "1        0                   0             0               0                0   \n",
       "2        0                   0             0               0                0   \n",
       "3        0                   0             0               0                0   \n",
       "4        0                   0             0               0                0   \n",
       "\n",
       "   Airport Terminal  ...  Video Store  Vietnamese Restaurant  \\\n",
       "0                 0  ...            0                      0   \n",
       "1                 0  ...            0                      0   \n",
       "2                 0  ...            0                      0   \n",
       "3                 0  ...            0                      0   \n",
       "4                 0  ...            0                      0   \n",
       "\n",
       "   Volleyball Court  Waterfront  Whisky Bar  Wine Bar  Wine Shop  Wings Joint  \\\n",
       "0                 0           0           0         0          0            0   \n",
       "1                 0           0           0         0          0            0   \n",
       "2                 0           0           0         0          0            0   \n",
       "3                 0           0           0         0          0            0   \n",
       "4                 0           0           0         0          0            0   \n",
       "\n",
       "   Women's Store  Yoga Studio  \n",
       "0              0            0  \n",
       "1              0            0  \n",
       "2              0            0  \n",
       "3              0            0  \n",
       "4              0            0  \n",
       "\n",
       "[5 rows x 367 columns]"
      ]
     },
     "execution_count": 129,
     "metadata": {},
     "output_type": "execute_result"
    }
   ],
   "source": [
    "#using one-hot encoding to get the venue categories\n",
    "df_categories = pd.get_dummies(df_venues[['Venue Category']] , prefix = '' ,prefix_sep = '')\n",
    "df_categories['Neighborhood'] = df_venues['Neighborhood']\n",
    "df_categories.head()"
   ]
  },
  {
   "cell_type": "markdown",
   "metadata": {},
   "source": [
    "There are about a total <strong>367 Venue categories</strong> present in all the neighborhoods combined "
   ]
  },
  {
   "cell_type": "code",
   "execution_count": 130,
   "metadata": {},
   "outputs": [
    {
     "data": {
      "text/plain": [
       "(79, 367)"
      ]
     },
     "execution_count": 130,
     "metadata": {},
     "output_type": "execute_result"
    }
   ],
   "source": [
    "df_mean = df_categories.groupby('Neighborhood').mean().reset_index()\n",
    "df_mean.shape"
   ]
  },
  {
   "cell_type": "markdown",
   "metadata": {},
   "source": [
    "To find out the popular or the most commonly suggested venue categories we will form a dataframe so that we can even consider this aspect of the neighborhood"
   ]
  },
  {
   "cell_type": "code",
   "execution_count": 131,
   "metadata": {},
   "outputs": [],
   "source": [
    "#function to get the most common venues of a neighborhood\n",
    "def return_most_common_venues(row, num_top_venues):\n",
    "    row_categories = row.iloc[1:]\n",
    "    row_categories_sorted = row_categories.sort_values(ascending=False)\n",
    "    \n",
    "    return row_categories_sorted.index.values[0:num_top_venues]"
   ]
  },
  {
   "cell_type": "code",
   "execution_count": 132,
   "metadata": {},
   "outputs": [
    {
     "data": {
      "text/html": [
       "<div>\n",
       "<style scoped>\n",
       "    .dataframe tbody tr th:only-of-type {\n",
       "        vertical-align: middle;\n",
       "    }\n",
       "\n",
       "    .dataframe tbody tr th {\n",
       "        vertical-align: top;\n",
       "    }\n",
       "\n",
       "    .dataframe thead th {\n",
       "        text-align: right;\n",
       "    }\n",
       "</style>\n",
       "<table border=\"1\" class=\"dataframe\">\n",
       "  <thead>\n",
       "    <tr style=\"text-align: right;\">\n",
       "      <th></th>\n",
       "      <th>Neighborhood</th>\n",
       "      <th>1st Most Common Venue</th>\n",
       "      <th>2nd Most Common Venue</th>\n",
       "      <th>3rd Most Common Venue</th>\n",
       "      <th>4th Most Common Venue</th>\n",
       "      <th>5th Most Common Venue</th>\n",
       "      <th>6th Most Common Venue</th>\n",
       "      <th>7th Most Common Venue</th>\n",
       "      <th>8th Most Common Venue</th>\n",
       "      <th>9th Most Common Venue</th>\n",
       "      <th>10th Most Common Venue</th>\n",
       "    </tr>\n",
       "  </thead>\n",
       "  <tbody>\n",
       "    <tr>\n",
       "      <th>0</th>\n",
       "      <td>Battery Park City</td>\n",
       "      <td>Park</td>\n",
       "      <td>Hotel</td>\n",
       "      <td>Gym</td>\n",
       "      <td>Memorial Site</td>\n",
       "      <td>Boat or Ferry</td>\n",
       "      <td>Food Court</td>\n",
       "      <td>Shopping Mall</td>\n",
       "      <td>Burger Joint</td>\n",
       "      <td>Plaza</td>\n",
       "      <td>Italian Restaurant</td>\n",
       "    </tr>\n",
       "    <tr>\n",
       "      <th>1</th>\n",
       "      <td>Berczy Park</td>\n",
       "      <td>Coffee Shop</td>\n",
       "      <td>Cocktail Bar</td>\n",
       "      <td>Cheese Shop</td>\n",
       "      <td>Seafood Restaurant</td>\n",
       "      <td>Bakery</td>\n",
       "      <td>Café</td>\n",
       "      <td>Farmers Market</td>\n",
       "      <td>Italian Restaurant</td>\n",
       "      <td>Beer Bar</td>\n",
       "      <td>Restaurant</td>\n",
       "    </tr>\n",
       "    <tr>\n",
       "      <th>2</th>\n",
       "      <td>Brockton , Parkdale Village , Exhibition Place</td>\n",
       "      <td>Café</td>\n",
       "      <td>Breakfast Spot</td>\n",
       "      <td>Coffee Shop</td>\n",
       "      <td>Grocery Store</td>\n",
       "      <td>Italian Restaurant</td>\n",
       "      <td>Bakery</td>\n",
       "      <td>Nightclub</td>\n",
       "      <td>Climbing Gym</td>\n",
       "      <td>Restaurant</td>\n",
       "      <td>Performing Arts Venue</td>\n",
       "    </tr>\n",
       "    <tr>\n",
       "      <th>3</th>\n",
       "      <td>Business reply mail Processing CentrE</td>\n",
       "      <td>Light Rail Station</td>\n",
       "      <td>Yoga Studio</td>\n",
       "      <td>Auto Workshop</td>\n",
       "      <td>Recording Studio</td>\n",
       "      <td>Restaurant</td>\n",
       "      <td>Park</td>\n",
       "      <td>Skate Park</td>\n",
       "      <td>Smoke Shop</td>\n",
       "      <td>Burrito Place</td>\n",
       "      <td>Spa</td>\n",
       "    </tr>\n",
       "    <tr>\n",
       "      <th>4</th>\n",
       "      <td>CN Tower , King and Spadina , Railway Lands , ...</td>\n",
       "      <td>Airport Service</td>\n",
       "      <td>Airport Terminal</td>\n",
       "      <td>Airport Lounge</td>\n",
       "      <td>Boutique</td>\n",
       "      <td>Sculpture Garden</td>\n",
       "      <td>Coffee Shop</td>\n",
       "      <td>Rental Car Location</td>\n",
       "      <td>Harbor / Marina</td>\n",
       "      <td>Boat or Ferry</td>\n",
       "      <td>Plane</td>\n",
       "    </tr>\n",
       "  </tbody>\n",
       "</table>\n",
       "</div>"
      ],
      "text/plain": [
       "                                        Neighborhood 1st Most Common Venue  \\\n",
       "0                                  Battery Park City                  Park   \n",
       "1                                        Berczy Park           Coffee Shop   \n",
       "2     Brockton , Parkdale Village , Exhibition Place                  Café   \n",
       "3              Business reply mail Processing CentrE    Light Rail Station   \n",
       "4  CN Tower , King and Spadina , Railway Lands , ...       Airport Service   \n",
       "\n",
       "  2nd Most Common Venue 3rd Most Common Venue 4th Most Common Venue  \\\n",
       "0                 Hotel                   Gym         Memorial Site   \n",
       "1          Cocktail Bar           Cheese Shop    Seafood Restaurant   \n",
       "2        Breakfast Spot           Coffee Shop         Grocery Store   \n",
       "3           Yoga Studio         Auto Workshop      Recording Studio   \n",
       "4      Airport Terminal        Airport Lounge              Boutique   \n",
       "\n",
       "  5th Most Common Venue 6th Most Common Venue 7th Most Common Venue  \\\n",
       "0         Boat or Ferry            Food Court         Shopping Mall   \n",
       "1                Bakery                  Café        Farmers Market   \n",
       "2    Italian Restaurant                Bakery             Nightclub   \n",
       "3            Restaurant                  Park            Skate Park   \n",
       "4      Sculpture Garden           Coffee Shop   Rental Car Location   \n",
       "\n",
       "  8th Most Common Venue 9th Most Common Venue 10th Most Common Venue  \n",
       "0          Burger Joint                 Plaza     Italian Restaurant  \n",
       "1    Italian Restaurant              Beer Bar             Restaurant  \n",
       "2          Climbing Gym            Restaurant  Performing Arts Venue  \n",
       "3            Smoke Shop         Burrito Place                    Spa  \n",
       "4       Harbor / Marina         Boat or Ferry                  Plane  "
      ]
     },
     "execution_count": 132,
     "metadata": {},
     "output_type": "execute_result"
    }
   ],
   "source": [
    "num_top_venues = 10\n",
    "\n",
    "indt = ['st', 'nd', 'rd']\n",
    "\n",
    "# create columns according to number of top venues\n",
    "columns = ['Neighborhood']\n",
    "for indice in np.arange(num_top_venues):\n",
    "    try:\n",
    "        columns.append('{}{} Most Common Venue'.format(indice+1, indt[indice]))\n",
    "    except:\n",
    "        columns.append('{}th Most Common Venue'.format(indice+1))\n",
    "\n",
    "# create a new dataframe\n",
    "df_common = pd.DataFrame(columns=columns)\n",
    "df_common['Neighborhood'] = df_mean['Neighborhood']\n",
    "\n",
    "for ind in np.arange(df_mean.shape[0]):\n",
    "    df_common.iloc[ind, 1:] = return_most_common_venues(df_mean.iloc[ind, :], num_top_venues)\n",
    "\n",
    "df_common.head()"
   ]
  },
  {
   "cell_type": "markdown",
   "metadata": {},
   "source": [
    "By this we can observe that the most common venue category in Battery Park City is Park and so on like that by this dataframe.\n",
    "For people who are more particular or specific about these kind of things....here's the data they can look into"
   ]
  },
  {
   "cell_type": "markdown",
   "metadata": {},
   "source": [
    "<h1>Clustering</h1>\n",
    "Lets cluster the neighborhoods of Newyork and Toronto based on the venue categories so that we can find the similar types of neighborhoods from both the cities <br/> For this we will use the <strong>K-Means Clustering</strong> method<br/> To apply this method first we need to find the optimal number of clusters to form.<br/>\n",
    "First of all we will implement <strong>PCA</strong> on the data in order to decrease dimensionality and retain the variance"
   ]
  },
  {
   "cell_type": "code",
   "execution_count": 133,
   "metadata": {},
   "outputs": [
    {
     "data": {
      "image/png": "[encoded data removed]",
      "text/plain": [
       "<Figure size 864x576 with 1 Axes>"
      ]
     },
     "metadata": {
      "needs_background": "light"
     },
     "output_type": "display_data"
    }
   ],
   "source": [
    "df_clustering = df_mean.drop('Neighborhood', 1)\n",
    "\n",
    "scaler = MinMaxScaler(feature_range=[0, 1])\n",
    "data_rescaled = scaler.fit_transform(df_clustering)\n",
    "\n",
    "pca = PCA().fit(data_rescaled)\n",
    "plt.figure(figsize=(12,8))\n",
    "plt.plot(np.cumsum(pca.explained_variance_ratio_))\n",
    "plt.yticks(np.arange(0, 1.0, step=0.05))\n",
    "plt.xlabel('number of components')\n",
    "plt.ylabel('cumulative explained variance')\n",
    "plt.savefig('PCA.png')"
   ]
  },
  {
   "cell_type": "code",
   "execution_count": 134,
   "metadata": {},
   "outputs": [
    {
     "data": {
      "text/plain": [
       "(79, 70)"
      ]
     },
     "execution_count": 134,
     "metadata": {},
     "output_type": "execute_result"
    }
   ],
   "source": [
    "pca = PCA(n_components=70)\n",
    "df_pca = pca.fit_transform(data_rescaled)\n",
    "df_pca.shape"
   ]
  },
  {
   "cell_type": "markdown",
   "metadata": {},
   "source": [
    "We reduced the feautures to avoid overfitting by the model we generated <br/>\n",
    "<h2>Elbow Method</h2>\n",
    "Using the elbow method to find the optimal number of clusters for our model i.e elbow point of the graph"
   ]
  },
  {
   "cell_type": "code",
   "execution_count": 142,
   "metadata": {},
   "outputs": [
    {
     "data": {
      "image/png": "[encoded data removed]",
      "text/plain": [
       "<Figure size 432x288 with 1 Axes>"
      ]
     },
     "metadata": {
      "needs_background": "light"
     },
     "output_type": "display_data"
    }
   ],
   "source": [
    "Sum_of_squared_distances = []\n",
    "K = range(1, 30)\n",
    "for kclusters in K:\n",
    "    km = KMeans(n_clusters=kclusters, init='k-means++', n_init=10, max_iter=300, tol=0.0001,  random_state=10).fit(df_pca)\n",
    "    Sum_of_squared_distances.append(km.inertia_)\n",
    "    \n",
    "plt.plot(K, Sum_of_squared_distances, 'bx-')\n",
    "plt.xlabel('k')\n",
    "plt.ylabel('Sum_of_squared_distances')\n",
    "plt.title('Elbow Method For Optimal k')\n",
    "plt.savefig('Elbow.png')\n",
    "plt.show()"
   ]
  },
  {
   "cell_type": "markdown",
   "metadata": {},
   "source": [
    "The Graph between Mean squared error and K was not much helpfull in finding the optimal number of clusters as the graph is almost linear"
   ]
  },
  {
   "cell_type": "markdown",
   "metadata": {},
   "source": [
    "<h2>Silhouette score method</h2>\n",
    "Using the Silhouette method to determine the number of clusters as the previous method was not much helpful "
   ]
  },
  {
   "cell_type": "code",
   "execution_count": 143,
   "metadata": {},
   "outputs": [
    {
     "data": {
      "image/png": "[encoded data removed]",
      "text/plain": [
       "<Figure size 432x288 with 1 Axes>"
      ]
     },
     "metadata": {
      "needs_background": "light"
     },
     "output_type": "display_data"
    }
   ],
   "source": [
    "obs = df_pca.copy() \n",
    "silhouette_score_values=list()\n",
    " \n",
    "NumberOfClusters=range(3,30)\n",
    " \n",
    "for i in NumberOfClusters:\n",
    "    \n",
    "    classifier=KMeans(i,init='k-means++', n_init=10, max_iter=300, tol=0.0001, random_state=10)\n",
    "    classifier.fit(obs)\n",
    "    labels= classifier.predict(obs)\n",
    "    silhouette_score_values.append(sklearn.metrics.silhouette_score(obs,labels ,metric='euclidean', random_state=0))\n",
    " \n",
    "plt.plot(NumberOfClusters, silhouette_score_values)\n",
    "plt.title(\"Silhouette score values vs Numbers of Clusters \")\n",
    "plt.savefig('SSM.png')\n",
    "plt.show()\n",
    " \n",
    "#Optimal_NumberOf_Components=NumberOfClusters[silhouette_score_values.index(max(silhouette_score_values))]\n",
    "#print(\"Optimal number of components is:\", Optimal_NumberOf_Components)"
   ]
  },
  {
   "cell_type": "markdown",
   "metadata": {},
   "source": [
    "By the Silhouette score method we found out that the optimal value of clusters i.e 5 because if we use 3 then the number of clusters are very less so the next value of k with high sihouette score is 5.<br/>\n",
    "<h2>K-Means Clustering</h2>\n",
    "Now that we found out the number of optimal number of clusters we will perform the Clustering "
   ]
  },
  {
   "cell_type": "code",
   "execution_count": 137,
   "metadata": {},
   "outputs": [
    {
     "data": {
      "text/plain": [
       "array([0, 2, 2, 2, 2, 1, 1, 3, 1, 4, 2, 1, 1, 0, 0, 2, 2, 2, 2, 2, 1, 0,\n",
       "       1, 2, 1, 2, 2, 2, 0, 2, 0, 2, 2, 2, 2, 1, 0, 4, 2, 2, 1, 2, 1, 4,\n",
       "       1, 2, 1, 1, 2, 2, 2, 2, 2, 0, 1, 2, 2, 2, 4, 2, 2, 2, 2, 2, 2, 2,\n",
       "       1, 2, 1, 0, 1, 1, 1, 2, 1, 1, 2, 2, 2])"
      ]
     },
     "execution_count": 137,
     "metadata": {},
     "output_type": "execute_result"
    }
   ],
   "source": [
    "clusters = 5\n",
    "kmeans  = KMeans(n_clusters=clusters, init='k-means++', n_init=10, max_iter=300, tol=0.0001, verbose=0, random_state=2, copy_x=True).fit(df_pca)\n",
    "labels = kmeans.labels_\n",
    "labels"
   ]
  },
  {
   "cell_type": "code",
   "execution_count": 138,
   "metadata": {},
   "outputs": [],
   "source": [
    "df_mean.insert(0, 'Cluster_Labels', kmeans.labels_)"
   ]
  },
  {
   "cell_type": "code",
   "execution_count": 139,
   "metadata": {},
   "outputs": [
    {
     "data": {
      "text/plain": [
       "(79, 368)"
      ]
     },
     "execution_count": 139,
     "metadata": {},
     "output_type": "execute_result"
    }
   ],
   "source": [
    "df_mean.shape"
   ]
  },
  {
   "cell_type": "markdown",
   "metadata": {},
   "source": [
    "<h1>Data Visualization </h1>\n",
    "Now we will seperate the neighborhoods of Toronto and Newyork along with their cluster labels as to visualize them"
   ]
  },
  {
   "cell_type": "code",
   "execution_count": 122,
   "metadata": {},
   "outputs": [
    {
     "data": {
      "text/plain": [
       "(40, 4)"
      ]
     },
     "execution_count": 122,
     "metadata": {},
     "output_type": "execute_result"
    }
   ],
   "source": [
    "df_CN = df_mean[['Cluster_Labels','Neighborhood']]\n",
    "df_NewYork = pd.merge(Newyork[['Neighborhood','Latitude','Longitude']],df_CN ,on = 'Neighborhood')\n",
    "df_NewYork.shape"
   ]
  },
  {
   "cell_type": "code",
   "execution_count": 123,
   "metadata": {},
   "outputs": [
    {
     "data": {
      "text/plain": [
       "(39, 4)"
      ]
     },
     "execution_count": 123,
     "metadata": {},
     "output_type": "execute_result"
    }
   ],
   "source": [
    "df_Toronto = pd.merge(Toronto[['Neighborhood','Latitude','Longitude']] ,df_CN ,on = 'Neighborhood' )\n",
    "df_Toronto.shape"
   ]
  },
  {
   "cell_type": "markdown",
   "metadata": {},
   "source": [
    "<h1>Lets visualize the clusters of the cities in Folium Map</h1>\n",
    "<br/><h2>First visualize the city of NewYork</h2>"
   ]
  },
  {
   "cell_type": "code",
   "execution_count": 124,
   "metadata": {},
   "outputs": [
    {
     "data": {
      "text/html": [
       "<div style=\"width:100%;\"><div style=\"position:relative;width:100%;height:0;padding-bottom:60%;\"><iframe src=\"about:blank\" style=\"position:absolute;width:100%;height:100%;left:0;top:0;border:none !important;\" data-html=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 onload=\"this.contentDocument.open();this.contentDocument.write(atob(this.getAttribute('data-html')));this.contentDocument.close();\" allowfullscreen webkitallowfullscreen mozallowfullscreen></iframe></div></div>"
      ],
      "text/plain": [
       "<folium.folium.Map at 0x29739a22748>"
      ]
     },
     "execution_count": 124,
     "metadata": {},
     "output_type": "execute_result"
    }
   ],
   "source": [
    "# create map\n",
    "map_NY = folium.Map(location=[40.7831, -73.9712], zoom_start= 11)\n",
    "\n",
    "# set color scheme for the clusters\n",
    "x = np.arange(clusters)\n",
    "ys = [i + x + (i*x)**2 for i in range(clusters)]\n",
    "colors_array = cm.rainbow(np.linspace(0, 1, len(ys)))\n",
    "rainbow = [colors.rgb2hex(i) for i in colors_array]\n",
    "\n",
    "# add markers to the map\n",
    "markers_colors = []\n",
    "for lat, lon, poi, cluster in zip(df_NewYork['Latitude'], df_NewYork['Longitude'], df_NewYork['Neighborhood'], df_NewYork['Cluster_Labels']):\n",
    "    label = folium.Popup(str(poi) + \" \"  + ' Cluster ' + str(cluster), parse_html=True)\n",
    "    folium.CircleMarker(\n",
    "        [lat, lon],\n",
    "        radius=5,\n",
    "        popup=label,\n",
    "        color=rainbow[int(cluster)-1],\n",
    "        fill=True,\n",
    "        fill_color=rainbow[int(cluster)-1],\n",
    "        fill_opacity=0.7).add_to(map_NY)\n",
    "       \n",
    "map_NY"
   ]
  },
  {
   "cell_type": "markdown",
   "metadata": {},
   "source": [
    "<h2>City of Toronto</h2>"
   ]
  },
  {
   "cell_type": "code",
   "execution_count": 125,
   "metadata": {},
   "outputs": [
    {
     "data": {
      "text/html": [
       "<div style=\"width:100%;\"><div style=\"position:relative;width:100%;height:0;padding-bottom:60%;\"><iframe src=\"about:blank\" style=\"position:absolute;width:100%;height:100%;left:0;top:0;border:none !important;\" data-html=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 onload=\"this.contentDocument.open();this.contentDocument.write(atob(this.getAttribute('data-html')));this.contentDocument.close();\" allowfullscreen webkitallowfullscreen mozallowfullscreen></iframe></div></div>"
      ],
      "text/plain": [
       "<folium.folium.Map at 0x29735bbbc08>"
      ]
     },
     "execution_count": 125,
     "metadata": {},
     "output_type": "execute_result"
    }
   ],
   "source": [
    "# create map\n",
    "map_T = folium.Map(location=[43.6532, -79.3832], zoom_start= 11)\n",
    "\n",
    "# set color scheme for the clusters\n",
    "x = np.arange(clusters)\n",
    "ys = [i + x + (i*x)**2 for i in range(clusters)]\n",
    "colors_array = cm.rainbow(np.linspace(0, 1, len(ys)))\n",
    "rainbow = [colors.rgb2hex(i) for i in colors_array]\n",
    "\n",
    "# add markers to the map\n",
    "markers_colors = []\n",
    "for lat, lon, poi, cluster in zip(df_Toronto['Latitude'], df_Toronto['Longitude'], df_Toronto['Neighborhood'], df_Toronto['Cluster_Labels']):\n",
    "    label = folium.Popup(str(poi) + \" \"  + ' Cluster ' + str(cluster), parse_html=True)\n",
    "    folium.CircleMarker(\n",
    "        [lat, lon],\n",
    "        radius=5,\n",
    "        popup=label,\n",
    "        color=rainbow[int(cluster)-1],\n",
    "        fill=True,\n",
    "        fill_color=rainbow[int(cluster)-1],\n",
    "        fill_opacity=0.7).add_to(map_T)\n",
    "       \n",
    "map_T"
   ]
  },
  {
   "cell_type": "markdown",
   "metadata": {},
   "source": [
    "<h1>Conclusion</h1>\n",
    "We can visualize the similar type of neighborhoods from both the cities with these maps<br/>The circle Markers with same color markers are similar to each other based on the venue categories present in their corresponding neighborhoods"
   ]
  },
  {
   "cell_type": "code",
   "execution_count": null,
   "metadata": {},
   "outputs": [],
   "source": []
  }
 ],
 "metadata": {
  "kernelspec": {
   "display_name": "Python 3",
   "language": "python",
   "name": "python3"
  },
  "language_info": {
   "codemirror_mode": {
    "name": "ipython",
    "version": 3
   },
   "file_extension": ".py",
   "mimetype": "text/x-python",
   "name": "python",
   "nbconvert_exporter": "python",
   "pygments_lexer": "ipython3",
   "version": "3.7.7"
  }
 },
 "nbformat": 4,
 "nbformat_minor": 4
}
